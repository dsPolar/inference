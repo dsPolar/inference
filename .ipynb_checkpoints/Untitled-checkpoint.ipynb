{
 "cells": [
  {
   "cell_type": "code",
   "execution_count": null,
   "metadata": {},
   "outputs": [
    {
     "name": "stdout",
     "output_type": "stream",
     "text": [
      "pre denG\n"
     ]
    }
   ],
   "source": [
    "import numpy as np\n",
    "import imageio\n",
    "import matplotlib.pyplot as plt\n",
    "from scipy.misc import imread\n",
    "import imagebase\n",
    "import neighbour\n",
    "\n",
    "def denoise(image):\n",
    "    x = image.shape[0]\n",
    "    y = image.shape[1]\n",
    "    tempimage = image\n",
    "    for t in range(100):\n",
    "        for i in range(x):\n",
    "            for j in range(y):\n",
    "                sum = 0\n",
    "                for ne in neighbour.neighbours(i,j,x,y,8):\n",
    "                    sum += (image[ne]*image[i,j])\n",
    "                if(sum > 1):\n",
    "                    tempimage[i,j] = 1\n",
    "                else:\n",
    "                    tempimage[i,j] = -1\n",
    "        image = tempimage\n",
    "    return im\n",
    "\n",
    "prop = 0.7\n",
    "varSigma = 0.1\n",
    "\n",
    "im = imageio.imread('chromegray.png')\n",
    "im = im/255\n",
    "\n",
    "\n",
    "fig = plt.figure()\n",
    "ax = fig.add_subplot(231)\n",
    "ax.imshow(im,cmap='gray')\n",
    "imG = imagebase.add_gaussian_noise(im,prop,varSigma)\n",
    "ax2 = fig.add_subplot(232)\n",
    "ax2.imshow(imG,cmap='gray')\n",
    "imS = imagebase.add_saltnpeppar_noise(im,prop)\n",
    "ax3 = fig.add_subplot(233)\n",
    "ax3.imshow(imS,cmap='gray')\n",
    "print(\"pre denG\")\n",
    "denG = denoise(imG)\n",
    "print(\"pre denS\")\n",
    "denS = denoise(imS)\n",
    "ax4 = fig.add_subplot(235)\n",
    "ax4.imshow(imG,cmap='gray')\n",
    "ax5 = fig.add_subplot(236)\n",
    "ax5.imshow(imS,cmap='gray')"
   ]
  },
  {
   "cell_type": "code",
   "execution_count": null,
   "metadata": {},
   "outputs": [],
   "source": []
  },
  {
   "cell_type": "code",
   "execution_count": null,
   "metadata": {},
   "outputs": [],
   "source": []
  }
 ],
 "metadata": {
  "kernelspec": {
   "display_name": "Python 3",
   "language": "python",
   "name": "python3"
  },
  "language_info": {
   "codemirror_mode": {
    "name": "ipython",
    "version": 3
   },
   "file_extension": ".py",
   "mimetype": "text/x-python",
   "name": "python",
   "nbconvert_exporter": "python",
   "pygments_lexer": "ipython3",
   "version": "3.7.0"
  }
 },
 "nbformat": 4,
 "nbformat_minor": 2
}
